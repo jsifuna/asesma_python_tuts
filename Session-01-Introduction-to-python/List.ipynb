{
  "cells": [
    {
      "cell_type": "markdown",
      "metadata": {
        "id": "5fuDw605aALF"
      },
      "source": [
        "# **Python Lists**"
      ]
    },
    {
      "cell_type": "markdown",
      "metadata": {
        "id": "JXTjkX5WaFJZ"
      },
      "source": [
        "List items are ordered, changeable and allow duplicate values. They hold diiferent data types(int, str, float) inside square brackets."
      ]
    },
    {
      "cell_type": "code",
      "execution_count": 1,
      "metadata": {
        "colab": {
          "base_uri": "https://localhost:8080/"
        },
        "id": "YtUvR-EXUXlb",
        "outputId": "62fcf9b8-aacf-4233-db0f-7d4c41e5ee9f"
      },
      "outputs": [
        {
          "name": "stdout",
          "output_type": "stream",
          "text": [
            "['apple', 'banana', 'cherry']\n"
          ]
        }
      ],
      "source": [
        "fruits = [\"apple\",\"banana\",\"cherry\"]\n",
        "print(fruits)"
      ]
    },
    {
      "cell_type": "markdown",
      "metadata": {},
      "source": [
        "- `len` tells us the length of the list.\n",
        "\n",
        "- `type` tells us the data type."
      ]
    },
    {
      "cell_type": "code",
      "execution_count": 2,
      "metadata": {
        "colab": {
          "base_uri": "https://localhost:8080/"
        },
        "id": "a22FJgXtacxu",
        "outputId": "0c20e9fa-f8f5-4c3b-ba1f-5d470fbabdc3"
      },
      "outputs": [
        {
          "name": "stdout",
          "output_type": "stream",
          "text": [
            "3\n",
            "<class 'list'>\n"
          ]
        }
      ],
      "source": [
        "print(len(fruits))\n",
        "print(type(fruits))"
      ]
    },
    {
      "cell_type": "markdown",
      "metadata": {},
      "source": [
        "### List item selection and slicing"
      ]
    },
    {
      "cell_type": "code",
      "execution_count": 3,
      "metadata": {
        "colab": {
          "base_uri": "https://localhost:8080/"
        },
        "id": "Uvj03GSBagmy",
        "outputId": "a19e78f8-1743-4ff7-d5e5-22164541d01f"
      },
      "outputs": [
        {
          "name": "stdout",
          "output_type": "stream",
          "text": [
            "pineapple\n",
            "['banana', 'cherry', 'passion']\n",
            "['banana', 'cherry', 'passion', 'pineapple']\n"
          ]
        }
      ],
      "source": [
        "fruits = [\"apple\", \"banana\", \"cherry\", \"passion\", \"pineapple\"]\n",
        "\n",
        "print(fruits[-1]) # select final item in a list\n",
        "print(fruits[1:4]) # select list items from index 1 to index 4 (but excluding item at index 4)\n",
        "print(fruits[1:]) # select all items from index 1 to the end of the list"
      ]
    },
    {
      "cell_type": "code",
      "execution_count": 4,
      "metadata": {
        "colab": {
          "base_uri": "https://localhost:8080/"
        },
        "id": "od9TSa-mc47z",
        "outputId": "71a4a1ef-be7c-4bb6-efcc-219ac9b7cd33"
      },
      "outputs": [
        {
          "name": "stdout",
          "output_type": "stream",
          "text": [
            "yes,'apple' is in the fruits list\n"
          ]
        }
      ],
      "source": [
        "if \"apple\" in fruits:\n",
        "  print(\"yes,'apple' is in the fruits list\")"
      ]
    },
    {
      "cell_type": "markdown",
      "metadata": {
        "id": "rjwCaIo2dEfs"
      },
      "source": [
        "# **Add List Items**"
      ]
    },
    {
      "cell_type": "markdown",
      "metadata": {
        "id": "WZXZjerwdICK"
      },
      "source": [
        "- ` append() ` \n",
        "\n",
        "- ` insert() `\n",
        "\n",
        "- ` extend() `"
      ]
    },
    {
      "cell_type": "code",
      "execution_count": 4,
      "metadata": {
        "colab": {
          "base_uri": "https://localhost:8080/"
        },
        "id": "bD_ZbfCXdBeu",
        "outputId": "1daa3a82-9abf-40f4-affa-26e7a9a1ca35"
      },
      "outputs": [
        {
          "name": "stdout",
          "output_type": "stream",
          "text": [
            "['apple', 'banana', 'watermelon', 'cherry', 'passion', 'pineapple']\n"
          ]
        }
      ],
      "source": [
        "#inserting \"watermelon\" as the third item:\n",
        "fruits.insert(2,\"watermelon\")\n",
        "print(fruits)"
      ]
    },
    {
      "cell_type": "code",
      "execution_count": 5,
      "metadata": {
        "colab": {
          "base_uri": "https://localhost:8080/"
        },
        "id": "qWgoU2Nwdbay",
        "outputId": "0fd9ad3d-ae64-41d3-9450-0b40afebc582"
      },
      "outputs": [
        {
          "name": "stdout",
          "output_type": "stream",
          "text": [
            "['apple', 'banana', 'watermelon', 'cherry', 'passion', 'pineapple', 'orange']\n"
          ]
        }
      ],
      "source": [
        "#append we add the items\n",
        "fruits.append(\"orange\")\n",
        "print(fruits)"
      ]
    },
    {
      "cell_type": "code",
      "execution_count": 7,
      "metadata": {
        "colab": {
          "base_uri": "https://localhost:8080/"
        },
        "id": "s4hPUaFJdiHE",
        "outputId": "b4f5c241-46a2-4d42-f94b-5d25a12eabf1"
      },
      "outputs": [
        {
          "name": "stdout",
          "output_type": "stream",
          "text": [
            "['apple', 'banana', 'cherry', 'mango', 'dragon fruit', 'papaya']\n"
          ]
        }
      ],
      "source": [
        "# Add the elements of tropical to this list:\n",
        "fruits = [\"apple\",\"banana\",\"cherry\"]\n",
        "fruits2 = [\"mango\",\"dragon fruit\",\"papaya\"]\n",
        "fruits.extend(fruits2)\n",
        "print(fruits)"
      ]
    },
    {
      "cell_type": "markdown",
      "metadata": {
        "id": "ObDBF1Z9eHH2"
      },
      "source": [
        "# **Remove List Items**"
      ]
    },
    {
      "cell_type": "markdown",
      "metadata": {
        "id": "IuTw9fuheNGH"
      },
      "source": [
        "- ` remove() `: it removes the specified item.\n",
        "\n",
        "- ` pop() `: it removes the specified index.\n",
        "\n",
        "- ` del `: it removes the specified index and it can also delete the list completely.\n",
        "\n",
        "- ` clear() `: List remains, but has no content empties the list."
      ]
    },
    {
      "cell_type": "code",
      "execution_count": 10,
      "metadata": {
        "colab": {
          "base_uri": "https://localhost:8080/"
        },
        "id": "S4eRPpuoeFjD",
        "outputId": "e60a9ad9-2c91-47ac-b1e6-23c9fa17ff3d"
      },
      "outputs": [
        {
          "name": "stdout",
          "output_type": "stream",
          "text": [
            "['apple', 'cherry', 'banana', 'kiwi']\n"
          ]
        }
      ],
      "source": [
        "fruits = [\"apple\", \"banana\", \"cherry\", \"banana\", \"kiwi\"]\n",
        "fruits.remove(\"banana\")\n",
        "print(fruits)"
      ]
    },
    {
      "cell_type": "code",
      "execution_count": 11,
      "metadata": {
        "colab": {
          "base_uri": "https://localhost:8080/"
        },
        "id": "aCaQ0MNIfGrr",
        "outputId": "82258e79-ac74-4c25-8087-b151a17474ae"
      },
      "outputs": [
        {
          "name": "stdout",
          "output_type": "stream",
          "text": [
            "['apple', 'cherry']\n"
          ]
        }
      ],
      "source": [
        "fruits = [\"apple\", \"banana\", \"cherry\"]\n",
        "fruits.pop(1)\n",
        "print(fruits)"
      ]
    },
    {
      "cell_type": "code",
      "execution_count": 10,
      "metadata": {
        "id": "y1AknCTVfL00"
      },
      "outputs": [
        {
          "name": "stdout",
          "output_type": "stream",
          "text": [
            "['banana', 'cherry']\n"
          ]
        }
      ],
      "source": [
        "fruits = [\"apple\", \"banana\", \"cherry\"]\n",
        "del fruits[0]\n",
        "print(fruits)"
      ]
    },
    {
      "cell_type": "code",
      "execution_count": 13,
      "metadata": {
        "colab": {
          "base_uri": "https://localhost:8080/"
        },
        "id": "X90druiZfOo-",
        "outputId": "7852f9c9-5b04-4df9-9487-9576adc310a1"
      },
      "outputs": [
        {
          "name": "stdout",
          "output_type": "stream",
          "text": [
            "[]\n"
          ]
        }
      ],
      "source": [
        "fruits = [\"apple\", \"banana\", \"cherry\"]\n",
        "fruits.clear()\n",
        "print(fruits)"
      ]
    },
    {
      "cell_type": "markdown",
      "metadata": {
        "id": "4enPraTTfUGm"
      },
      "source": [
        "# **Sort List**"
      ]
    },
    {
      "cell_type": "markdown",
      "metadata": {
        "id": "Gj8cBHG7fXgW"
      },
      "source": [
        "- ` sort() `: To sort descending, use the keyword argument `reverse = True`\n",
        "\n",
        "- ` reverse() `: This method reverses the current sorting order of the elements."
      ]
    },
    {
      "cell_type": "code",
      "execution_count": 12,
      "metadata": {
        "colab": {
          "base_uri": "https://localhost:8080/"
        },
        "id": "m3yTBeSTfS_S",
        "outputId": "8e5effca-1523-4cde-f916-458ce2d86fb2"
      },
      "outputs": [
        {
          "name": "stdout",
          "output_type": "stream",
          "text": [
            "['banana', 'kiwi', 'mango', 'orange', 'pineapple']\n"
          ]
        }
      ],
      "source": [
        "fruits = [\"orange\", \"mango\", \"kiwi\", \"pineapple\", \"banana\"]\n",
        "fruits.sort() # Sorts list alphabetically\n",
        "print(fruits)"
      ]
    },
    {
      "cell_type": "code",
      "execution_count": 15,
      "metadata": {
        "colab": {
          "base_uri": "https://localhost:8080/"
        },
        "id": "r6w1IgnafyIi",
        "outputId": "468c0a2d-baaf-4f22-ef33-fcb7cc7d3e9e"
      },
      "outputs": [
        {
          "name": "stdout",
          "output_type": "stream",
          "text": [
            "['pineapple', 'orange', 'mango', 'kiwi', 'banana']\n"
          ]
        }
      ],
      "source": [
        "fruits = [\"orange\", \"mango\", \"kiwi\", \"pineapple\", \"banana\"]\n",
        "fruits.sort(reverse=True)\n",
        "print(fruits)"
      ]
    },
    {
      "cell_type": "code",
      "execution_count": 14,
      "metadata": {
        "colab": {
          "base_uri": "https://localhost:8080/"
        },
        "id": "AFxbGWY9f3mE",
        "outputId": "9fcf55bd-7ecd-40a2-84d1-51e712186848"
      },
      "outputs": [
        {
          "name": "stdout",
          "output_type": "stream",
          "text": [
            "['cherry', 'Kiwi', 'Orange', 'banana']\n"
          ]
        }
      ],
      "source": [
        "fruits = [\"banana\", \"Orange\", \"Kiwi\", \"cherry\"]\n",
        "fruits.reverse() # only reverses index of items in a list\n",
        "print(fruits)"
      ]
    },
    {
      "cell_type": "markdown",
      "metadata": {
        "id": "z0KNqTDQf_xE"
      },
      "source": [
        "# **Join Two Lists**"
      ]
    },
    {
      "cell_type": "markdown",
      "metadata": {
        "id": "hclyn3plgD-X"
      },
      "source": [
        "- using + operator\n",
        "- Append list2 into list1: use the extend() method to add list2 at the end of list1."
      ]
    },
    {
      "cell_type": "code",
      "execution_count": 17,
      "metadata": {
        "colab": {
          "base_uri": "https://localhost:8080/"
        },
        "id": "zP7wAvsMf-mg",
        "outputId": "feb44392-bbf0-4113-92a9-b6d0032efba2"
      },
      "outputs": [
        {
          "name": "stdout",
          "output_type": "stream",
          "text": [
            "['a', 'b', 'c', 1, 2, 3]\n"
          ]
        }
      ],
      "source": [
        "list1 = [\"a\", \"b\", \"c\"]\n",
        "list2 = [1, 2, 3]\n",
        "\n",
        "list3 = list1 + list2\n",
        "print(list3)"
      ]
    },
    {
      "cell_type": "code",
      "execution_count": 18,
      "metadata": {
        "colab": {
          "base_uri": "https://localhost:8080/"
        },
        "id": "eltLgE-cgfHG",
        "outputId": "a4d7305e-d0b5-422a-80a5-decf95efb919"
      },
      "outputs": [
        {
          "name": "stdout",
          "output_type": "stream",
          "text": [
            "['a', 'b', 'c', 1, 2, 3]\n"
          ]
        }
      ],
      "source": [
        "list1 = [\"a\", \"b\", \"c\"]\n",
        "list2 = [1, 2, 3]\n",
        "\n",
        "for x in list2:\n",
        "  list1.append(x)\n",
        "\n",
        "print(list1)"
      ]
    },
    {
      "cell_type": "code",
      "execution_count": 19,
      "metadata": {
        "colab": {
          "base_uri": "https://localhost:8080/"
        },
        "id": "QOjKvogHgmw-",
        "outputId": "6eeaf351-d96a-4831-cf0a-e3299baeb0bd"
      },
      "outputs": [
        {
          "name": "stdout",
          "output_type": "stream",
          "text": [
            "['a', 'b', 'c', 1, 2, 3]\n"
          ]
        }
      ],
      "source": [
        "list1 = [\"a\", \"b\", \"c\"]\n",
        "list2 = [1, 2, 3]\n",
        "\n",
        "list1.extend(list2)\n",
        "print(list1)"
      ]
    },
    {
      "cell_type": "markdown",
      "metadata": {
        "id": "1MHu549Rgt_i"
      },
      "source": [
        "# **Copy Lists**"
      ]
    },
    {
      "cell_type": "code",
      "execution_count": 20,
      "metadata": {
        "colab": {
          "base_uri": "https://localhost:8080/"
        },
        "id": "OT_2FFXYgs0I",
        "outputId": "fdf5c785-40b6-445e-d259-b599a1c81787"
      },
      "outputs": [
        {
          "name": "stdout",
          "output_type": "stream",
          "text": [
            "['apple', 'banana', 'cherry']\n"
          ]
        }
      ],
      "source": [
        "fruits = [\"apple\", \"banana\", \"cherry\"]\n",
        "Newlist = fruits.copy()\n",
        "print(Newlist)"
      ]
    },
    {
      "cell_type": "code",
      "execution_count": 21,
      "metadata": {
        "colab": {
          "base_uri": "https://localhost:8080/"
        },
        "id": "Ew4V1iU_g-tY",
        "outputId": "e6bc6f86-8498-41f2-a415-287a88c533b9"
      },
      "outputs": [
        {
          "name": "stdout",
          "output_type": "stream",
          "text": [
            "['apple', 'banana', 'cherry']\n"
          ]
        }
      ],
      "source": [
        "fruits = [\"apple\", \"banana\", \"cherry\"]\n",
        "Newlist = list(fruits)\n",
        "print(Newlist)"
      ]
    }
  ],
  "metadata": {
    "colab": {
      "provenance": []
    },
    "kernelspec": {
      "display_name": "Python 3",
      "name": "python3"
    },
    "language_info": {
      "codemirror_mode": {
        "name": "ipython",
        "version": 3
      },
      "file_extension": ".py",
      "mimetype": "text/x-python",
      "name": "python",
      "nbconvert_exporter": "python",
      "pygments_lexer": "ipython3",
      "version": "3.10.12"
    }
  },
  "nbformat": 4,
  "nbformat_minor": 0
}
