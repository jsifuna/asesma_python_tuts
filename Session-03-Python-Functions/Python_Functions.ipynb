{
  "cells": [
    {
      "cell_type": "markdown",
      "metadata": {
        "id": "_X3_wRl2tcKY"
      },
      "source": [
        "# **Python Functions**"
      ]
    },
    {
      "cell_type": "markdown",
      "metadata": {
        "id": "EebIJpyNth3o"
      },
      "source": [
        " Python functions are reusable blocks of code that perform a specific task. They enhance the modularity and reusability of your code, making it more organized and manageable. Functions in Python are defined using the **`def`** keyword.\n",
        "\n",
        "There are two main types of functions in Python:\n",
        "\n",
        "- Built-in Functions: These are standard functions that come with Python, like print(), len(), etc.\n",
        "\n",
        "- User-defined Functions: These are functions that users create to perform specific tasks."
      ]
    },
    {
      "cell_type": "markdown",
      "metadata": {},
      "source": [
        "Here is an example that takes two arguments (the first name and the last name) and prints a greeting"
      ]
    },
    {
      "cell_type": "code",
      "execution_count": 1,
      "metadata": {
        "colab": {
          "base_uri": "https://localhost:8080/"
        },
        "id": "uV2zq-dAsm-L",
        "outputId": "108af050-32b6-461d-e168-ae44ec07206c"
      },
      "outputs": [
        {
          "name": "stdout",
          "output_type": "stream",
          "text": [
            "Hello, James Sifuna\n"
          ]
        }
      ],
      "source": [
        "def name(fname, lname):\n",
        "  print(\"Hello,\",fname, lname)\n",
        "\n",
        "name(\"James\",\"Sifuna\")"
      ]
    },
    {
      "cell_type": "markdown",
      "metadata": {
        "id": "D4FqsYMGyIau"
      },
      "source": [
        "# **Function Arguments**"
      ]
    },
    {
      "cell_type": "markdown",
      "metadata": {
        "id": "25t-vGMfyO0f"
      },
      "source": [
        "There are four types of arguments that we can provide in a fucntion:\n",
        "\n",
        "1.   Default Arguments\n",
        "2.   Keyword Arguments\n",
        "3.   Required Arguments\n",
        "4.   Variable-Length Arguments"
      ]
    },
    {
      "cell_type": "markdown",
      "metadata": {
        "id": "sESll1Xyyz6U"
      },
      "source": [
        "**Default Arguments :** we can provide a default value while creating a function.This way the function assumes a default value even if a value is not provided in the function call for that argument."
      ]
    },
    {
      "cell_type": "code",
      "execution_count": 5,
      "metadata": {
        "colab": {
          "base_uri": "https://localhost:8080/"
        },
        "id": "WSIP58zoyAS5",
        "outputId": "4de62d76-15fd-4d6a-de79-718b079bfcc6"
      },
      "outputs": [
        {
          "name": "stdout",
          "output_type": "stream",
          "text": [
            "Hello, James S. Sifuna\n"
          ]
        }
      ],
      "source": [
        "def name(fname, mname= \"S.\", lname = \"Sifuna\"):\n",
        "  print(\"Hello,\",fname,mname,lname)\n",
        "name(\"James\")"
      ]
    },
    {
      "cell_type": "markdown",
      "metadata": {
        "id": "DAAep-LtGUQJ"
      },
      "source": [
        "**Keyword Arguments**: We can provide arguments with key = value, this way the interpreter recognizes the arguments by the parameter name. Hence, the order in which the arguments are passes does not matter."
      ]
    },
    {
      "cell_type": "code",
      "execution_count": 6,
      "metadata": {
        "colab": {
          "base_uri": "https://localhost:8080/"
        },
        "id": "lnqXbyvXGQ8I",
        "outputId": "625e1ccc-d644-48a7-9754-a2f06ef73436"
      },
      "outputs": [
        {
          "name": "stdout",
          "output_type": "stream",
          "text": [
            "Hello, James S. Sifuna\n"
          ]
        }
      ],
      "source": [
        "def name(fname, mname, lname):\n",
        "  print(\"Hello,\", fname, mname, lname)\n",
        "\n",
        "name(mname=\"S.\", lname =\"Sifuna\", fname =\"James\")"
      ]
    },
    {
      "cell_type": "markdown",
      "metadata": {
        "id": "-uJAeQcVHmKG"
      },
      "source": [
        "**Required arguments**: In case we don't pass the arguments with a key = value syntax, then it is necessary to pass the arguments in the correct positional order and the number of arguments passed should match with actual function definition."
      ]
    },
    {
      "cell_type": "code",
      "execution_count": 8,
      "metadata": {
        "colab": {
          "base_uri": "https://localhost:8080/"
        },
        "id": "hd1JPV3bHbdL",
        "outputId": "f349e5c5-2327-4ec2-a2ce-97320766f500"
      },
      "outputs": [
        {
          "name": "stdout",
          "output_type": "stream",
          "text": [
            "Hello, James S. Sifuna\n"
          ]
        }
      ],
      "source": [
        "def name(fname,mname,lname):\n",
        "  print(\"Hello,\",fname,mname,lname)\n",
        "\n",
        "name(\"James\",\"S.\",\"Sifuna\")"
      ]
    },
    {
      "cell_type": "markdown",
      "metadata": {
        "id": "N1GzLh1ZIZxZ"
      },
      "source": [
        "**Variable-length arguments:** Sometimes we may need to pass more arguments than those defined in the actual function.This can be done using variable-length arguments.\n",
        "\n",
        "There are two ways to achieve this : Arbitrary Arguments : while creating a function , pass a * before the parameter name while defining the function."
      ]
    },
    {
      "cell_type": "code",
      "execution_count": 9,
      "metadata": {
        "colab": {
          "base_uri": "https://localhost:8080/"
        },
        "id": "L6lk25UcIYep",
        "outputId": "6e682f1b-1080-4929-fa05-938cfda06cfb"
      },
      "outputs": [
        {
          "name": "stdout",
          "output_type": "stream",
          "text": [
            "Hello, James S. Sifuna\n"
          ]
        }
      ],
      "source": [
        "def name(*name):\n",
        "  print(\"Hello,\",name[0],name[1],name[2])\n",
        "\n",
        "name(\"James\",\"S.\",\"Sifuna\")"
      ]
    },
    {
      "cell_type": "markdown",
      "metadata": {
        "id": "cSoxCE-5JfLD"
      },
      "source": [
        "**Keyword Arbitrary Arguments:**"
      ]
    },
    {
      "cell_type": "code",
      "execution_count": 10,
      "metadata": {
        "colab": {
          "base_uri": "https://localhost:8080/"
        },
        "id": "L5QyHLuVJc_D",
        "outputId": "f2cdbad7-cd1f-4b41-ec97-1e546caf435c"
      },
      "outputs": [
        {
          "name": "stdout",
          "output_type": "stream",
          "text": [
            "Hello, James S. Sifuna\n"
          ]
        }
      ],
      "source": [
        "def name(**name):\n",
        "  print(\"Hello,\",name[\"fname\"],name[\"mname\"],name[\"lname\"])\n",
        "\n",
        "name(mname=\"S.\",lname=\"Sifuna\",fname=\"James\")"
      ]
    },
    {
      "cell_type": "markdown",
      "metadata": {
        "id": "z6EDGtfPJ3G4"
      },
      "source": [
        "# **Return Statement**"
      ]
    },
    {
      "cell_type": "markdown",
      "metadata": {
        "id": "oVS85RKZJ7k0"
      },
      "source": [
        "The return statement is used to return the value of the expression back to the main function."
      ]
    },
    {
      "cell_type": "code",
      "execution_count": 13,
      "metadata": {
        "colab": {
          "base_uri": "https://localhost:8080/"
        },
        "id": "Qe-FYQ5bJ1gz",
        "outputId": "803bbf72-fe6a-441d-d215-7ff34d4f47ed"
      },
      "outputs": [
        {
          "name": "stdout",
          "output_type": "stream",
          "text": [
            "Hello, my name is James Sifuna\n"
          ]
        }
      ],
      "source": [
        "def name(fname,mname,lname):\n",
        "  return \"Hello, \" + fname + \" \" + mname + \" \" + lname\n",
        "\n",
        "print(name(\"my name is\",\"James\",\"Sifuna\"))"
      ]
    },
    {
      "cell_type": "markdown",
      "metadata": {
        "id": "FFATzRr_K2qP"
      },
      "source": [
        "# **Python Recursion**"
      ]
    },
    {
      "cell_type": "markdown",
      "metadata": {
        "id": "S7dJwa0iK6EA"
      },
      "source": [
        "We can let the function call itself, such a process is known as calling a function recursively in python"
      ]
    },
    {
      "cell_type": "code",
      "execution_count": 22,
      "metadata": {
        "colab": {
          "base_uri": "https://localhost:8080/"
        },
        "id": "ZmAWi6RDK1di",
        "outputId": "58350556-3d93-46d7-d12c-fee4e3a543c8"
      },
      "outputs": [
        {
          "name": "stdout",
          "output_type": "stream",
          "text": [
            "Enter the Number8\n",
            "number:  8\n",
            "Factorial: 40320\n"
          ]
        }
      ],
      "source": [
        "def factorial(n):\n",
        "  if(n == 0 or n==1):\n",
        "    return 1\n",
        "  else:\n",
        "    return n*factorial(n-1)\n",
        "\n",
        "num = int(input(\"Enter the Number\"))\n",
        "print(\"number: \",num)\n",
        "print(\"Factorial:\",factorial(num))"
      ]
    },
    {
      "cell_type": "code",
      "execution_count": 23,
      "metadata": {
        "colab": {
          "base_uri": "https://localhost:8080/"
        },
        "id": "vsbry2upMCLx",
        "outputId": "ecb6f55a-c7a0-46c0-e345-3b5a9465975c"
      },
      "outputs": [
        {
          "name": "stdout",
          "output_type": "stream",
          "text": [
            "Enter the password length:6\n",
            "Enter the number of passwords:4\n",
            "o[0'Q\"\n",
            "&5hAG%\n",
            "cgIiZ'\n",
            "F2jY~Y\n"
          ]
        }
      ],
      "source": [
        "#random Password Generator\n",
        "import random\n",
        "import string\n",
        "\n",
        "def generate_password(length=12):\n",
        "  characters = string.ascii_letters + string.digits + string.punctuation\n",
        "  password = ''.join(random.choice(characters) for _ in range(length))\n",
        "\n",
        "  return password\n",
        "\n",
        "try:\n",
        "  password_length = int(input(\"Enter the password length:\"))\n",
        "  num_passwords = int(input(\"Enter the number of passwords:\"))\n",
        "  for _ in range(num_passwords):\n",
        "    password = generate_password(password_length)\n",
        "    print(password)\n",
        "\n",
        "except ValueError:\n",
        "  print(\"Invalid input. Please enter valid numbers for password length and number of password\")"
      ]
    },
    {
      "cell_type": "code",
      "execution_count": 24,
      "metadata": {
        "colab": {
          "base_uri": "https://localhost:8080/"
        },
        "id": "dgTaQFHTOP-_",
        "outputId": "b68c857d-b7e4-4dd1-b926-d53cd89a8560"
      },
      "outputs": [
        {
          "name": "stdout",
          "output_type": "stream",
          "text": [
            "Enter a time in seconds:5\n",
            "countdown off!\n"
          ]
        }
      ],
      "source": [
        "#countdown Timer\n",
        "\n",
        "import time\n",
        "def countdown(user_time):\n",
        "  while(user_time >= 0):\n",
        "    mins, secs = divmod(user_time,60)\n",
        "    timer = '{:02d}:{:02d}'.format(mins,secs)\n",
        "    print(timer,end='\\r')\n",
        "    time.sleep(1)\n",
        "    user_time -= 1\n",
        "  print('countdown off!')\n",
        "\n",
        "if __name__ == '__main__':\n",
        "  user_time = int(input(\"Enter a time in seconds:\"))\n",
        "  countdown(user_time)"
      ]
    },
    {
      "cell_type": "code",
      "execution_count": 25,
      "metadata": {
        "colab": {
          "base_uri": "https://localhost:8080/"
        },
        "id": "-bO-bGroSv-T",
        "outputId": "263840a8-0188-4454-8e09-11b3596269e0"
      },
      "outputs": [
        {
          "name": "stdout",
          "output_type": "stream",
          "text": [
            "         1 \n",
            "        1 1 \n",
            "       1 2 1 \n",
            "      1 3 3 1 \n",
            "     1 4 6 4 1 \n",
            "    1 5 10 10 5 1 \n",
            "   1 6 15 20 15 6 1 \n",
            "  1 7 21 35 35 21 7 1 \n"
          ]
        }
      ],
      "source": [
        "#Pascal's Triangle\n",
        "from math import factorial\n",
        "def pascal_triangle(n):\n",
        "  for i in range(n):\n",
        "    for j in range(n-i+1):\n",
        "      print(end=' ')\n",
        "    for j in range(i+1):\n",
        "      print(factorial(i)//(factorial(j)*factorial(i-j)),end=' ')\n",
        "    print()\n",
        "\n",
        "if __name__ == '__main__':\n",
        "  pascal_triangle(8)"
      ]
    },
    {
      "cell_type": "code",
      "execution_count": 25,
      "metadata": {
        "id": "WnwuqM8yTqZD"
      },
      "outputs": [],
      "source": []
    }
  ],
  "metadata": {
    "colab": {
      "provenance": []
    },
    "kernelspec": {
      "display_name": "Python 3",
      "name": "python3"
    },
    "language_info": {
      "codemirror_mode": {
        "name": "ipython",
        "version": 3
      },
      "file_extension": ".py",
      "mimetype": "text/x-python",
      "name": "python",
      "nbconvert_exporter": "python",
      "pygments_lexer": "ipython3",
      "version": "3.10.12"
    }
  },
  "nbformat": 4,
  "nbformat_minor": 0
}
