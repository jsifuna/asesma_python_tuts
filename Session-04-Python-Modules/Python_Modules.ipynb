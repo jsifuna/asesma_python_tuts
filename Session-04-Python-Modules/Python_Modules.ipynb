{
  "cells": [
    {
      "cell_type": "markdown",
      "metadata": {
        "id": "qm9OFQS-9W94"
      },
      "source": [
        "# **Python Modules**\n",
        "\n",
        "There are two types of python modules:\n",
        "\n",
        "1. Buit-in modules\n",
        "2. User-defined modules\n",
        "\n",
        "## **Built-in modules:**\n",
        "\n",
        "- math\n",
        "\n",
        "- date\n",
        "\n",
        "- os\n",
        "\n",
        "- sys"
      ]
    },
    {
      "cell_type": "code",
      "execution_count": 1,
      "metadata": {
        "colab": {
          "base_uri": "https://localhost:8080/"
        },
        "id": "1bMcGupB9Pu8",
        "outputId": "a10d245e-ca19-41d3-f30d-d7ed21580637"
      },
      "outputs": [
        {
          "name": "stdout",
          "output_type": "stream",
          "text": [
            "Value of cos90 is: -0.4480736161291701\n",
            "Value of sin0 is: 0.0\n",
            "Value of tan45 is: 1.6197751905438615\n",
            "Value of pie is: 3.141592653589793\n"
          ]
        }
      ],
      "source": [
        "import math\n",
        "cos90 = math.cos(90)\n",
        "sin0 = math.sin(0)\n",
        "tan45 = math.tan(45)\n",
        "pie = math.pi\n",
        "print(\"Value of cos90 is:\", cos90)\n",
        "print(\"Value of sin0 is:\", sin0)\n",
        "print(\"Value of tan45 is:\",tan45)\n",
        "print(\"Value of pie is:\",pie)"
      ]
    },
    {
      "cell_type": "code",
      "execution_count": 2,
      "metadata": {
        "colab": {
          "base_uri": "https://localhost:8080/"
        },
        "id": "eEfAwiyc-MXA",
        "outputId": "fc007a69-7d40-457e-876e-a886302a0f4c"
      },
      "outputs": [
        {
          "name": "stdout",
          "output_type": "stream",
          "text": [
            "The value of tau is: 6.283185307179586\n",
            "euler's number is: 2.718281828459045\n"
          ]
        }
      ],
      "source": [
        "from math import e, tau\n",
        "print(\"The value of tau is:\",tau)\n",
        "print(\"euler's number is:\",e)"
      ]
    },
    {
      "cell_type": "code",
      "execution_count": 3,
      "metadata": {
        "colab": {
          "base_uri": "https://localhost:8080/"
        },
        "id": "9pT0KZD_-fbz",
        "outputId": "e5283490-e78a-4f65-9083-5875ecf37d7b"
      },
      "outputs": [
        {
          "name": "stdout",
          "output_type": "stream",
          "text": [
            "10.0\n",
            "120\n",
            "3.141592653589793\n"
          ]
        }
      ],
      "source": [
        "from math import sqrt,factorial,pi\n",
        "print(sqrt(100))\n",
        "print(factorial(5))\n",
        "print(pi)"
      ]
    },
    {
      "cell_type": "code",
      "execution_count": 5,
      "metadata": {
        "colab": {
          "base_uri": "https://localhost:8080/"
        },
        "id": "sv4qQ_OT-usU",
        "outputId": "5516c116-ad1a-46af-bff9-9bfb3aaf8488"
      },
      "outputs": [
        {
          "name": "stdout",
          "output_type": "stream",
          "text": [
            "6\n",
            "5\n"
          ]
        }
      ],
      "source": [
        "import math\n",
        "x = math.ceil(5.7) #rounds a number upwards to its nearest integer.\n",
        "y = math.floor(5.7) #rounds a number downwards to its nearest integer\n",
        "print(x)\n",
        "print(y)"
      ]
    },
    {
      "cell_type": "code",
      "execution_count": 6,
      "metadata": {
        "colab": {
          "base_uri": "https://localhost:8080/"
        },
        "id": "zmcc2UPR-2x8",
        "outputId": "3b0472d2-db2f-42d1-903d-4ce559e6fa54"
      },
      "outputs": [
        {
          "name": "stdout",
          "output_type": "stream",
          "text": [
            "4 to the power of 3: 64\n"
          ]
        }
      ],
      "source": [
        "#return the power fucntion (x^y)\n",
        "import math\n",
        "x = pow(4,3)\n",
        "print(\"4 to the power of 3:\",x)"
      ]
    },
    {
      "cell_type": "code",
      "execution_count": 7,
      "metadata": {
        "colab": {
          "base_uri": "https://localhost:8080/"
        },
        "id": "ZLQSMLQa_SDf",
        "outputId": "11f0587f-4f12-4385-985d-1f99f8db78f0"
      },
      "outputs": [
        {
          "name": "stdout",
          "output_type": "stream",
          "text": [
            "Minimum value in x: 5\n",
            "Maximum value in y: 25\n"
          ]
        }
      ],
      "source": [
        "import math\n",
        "x = min(5,10,25)\n",
        "y = max(5,10,25)\n",
        "\n",
        "print(\"Minimum value in x:\",x)\n",
        "print(\"Maximum value in y:\",y)"
      ]
    },
    {
      "cell_type": "code",
      "execution_count": 3,
      "metadata": {
        "colab": {
          "base_uri": "https://localhost:8080/"
        },
        "id": "4ZLB3rHH_krW",
        "outputId": "d4349e42-7333-4a05-c257-25a0cae90c10"
      },
      "outputs": [
        {
          "name": "stdout",
          "output_type": "stream",
          "text": [
            "49.25\n"
          ]
        }
      ],
      "source": [
        "#abs() returns the absolute (positive) value of the specified number\n",
        "import math\n",
        "x = abs(-49.25)\n",
        "print(x)"
      ]
    },
    {
      "cell_type": "markdown",
      "metadata": {
        "id": "x8BGVitO_vk-"
      },
      "source": [
        "# **Date & Time**"
      ]
    },
    {
      "cell_type": "code",
      "execution_count": 2,
      "metadata": {
        "colab": {
          "base_uri": "https://localhost:8080/"
        },
        "id": "v2vTQX0L_zat",
        "outputId": "d5aa77ee-9295-4d50-8f6c-9729a5cebf1e"
      },
      "outputs": [
        {
          "name": "stdout",
          "output_type": "stream",
          "text": [
            "2025-06-05 19:42:15.718952\n",
            "2025\n",
            "6\n",
            "5\n"
          ]
        }
      ],
      "source": [
        "import datetime\n",
        "now = datetime.datetime.now()\n",
        "print(now)\n",
        "print(now.year)\n",
        "print(now.month)\n",
        "print(now.day)"
      ]
    },
    {
      "cell_type": "code",
      "execution_count": 4,
      "metadata": {
        "colab": {
          "base_uri": "https://localhost:8080/"
        },
        "id": "zYKc6FJZACsr",
        "outputId": "9d2940e2-081f-4210-af6d-0ab801e3c8bf"
      },
      "outputs": [
        {
          "name": "stdout",
          "output_type": "stream",
          "text": [
            "1749141785.9900208\n"
          ]
        }
      ],
      "source": [
        "import time\n",
        "print(time.time())"
      ]
    },
    {
      "cell_type": "code",
      "execution_count": 5,
      "metadata": {
        "colab": {
          "base_uri": "https://localhost:8080/"
        },
        "id": "uKE0BID_AY3q",
        "outputId": "6a3ef2fa-acbc-48f1-b245-c5c744826856"
      },
      "outputs": [
        {
          "name": "stdout",
          "output_type": "stream",
          "text": [
            "Thu Jun  5 19:43:27 2025\n"
          ]
        }
      ],
      "source": [
        "#print current time\n",
        "import time\n",
        "print(time.ctime())"
      ]
    },
    {
      "cell_type": "code",
      "execution_count": 13,
      "metadata": {
        "colab": {
          "base_uri": "https://localhost:8080/"
        },
        "id": "y9id5yLFAhFg",
        "outputId": "b850fa11-0652-4c07-a0b2-1c14d435445a"
      },
      "outputs": [
        {
          "name": "stdout",
          "output_type": "stream",
          "text": [
            "Tue Jan  2 21:09:49 2024\n"
          ]
        }
      ],
      "source": [
        "#sleep() function inside time module is used to delay execution of current time thread by the given number of seconds.\n",
        "import time\n",
        "time.sleep(10)\n",
        "print(time.ctime())"
      ]
    },
    {
      "cell_type": "code",
      "execution_count": 6,
      "metadata": {
        "colab": {
          "base_uri": "https://localhost:8080/"
        },
        "id": "PjF0dKJ1ArUd",
        "outputId": "8a358c58-68fa-4292-f11e-e8a3dd21fdde"
      },
      "outputs": [
        {
          "name": "stdout",
          "output_type": "stream",
          "text": [
            "time.struct_time(tm_year=2024, tm_mon=1, tm_mday=3, tm_hour=0, tm_min=8, tm_sec=24, tm_wday=2, tm_yday=3, tm_isdst=0)\n"
          ]
        }
      ],
      "source": [
        "#To get the output of local time in struct_time format, use the localtime() function.\n",
        "import time\n",
        "print(time.localtime(1704229704.6241024)) #use the above tym format"
      ]
    },
    {
      "cell_type": "code",
      "execution_count": 16,
      "metadata": {
        "colab": {
          "base_uri": "https://localhost:8080/"
        },
        "id": "2vFZtv9MA97S",
        "outputId": "9c798155-5935-49f0-d196-0011d706ac66"
      },
      "outputs": [
        {
          "name": "stdout",
          "output_type": "stream",
          "text": [
            "time.struct_time(tm_year=2024, tm_mon=1, tm_mday=2, tm_hour=21, tm_min=8, tm_sec=24, tm_wday=1, tm_yday=2, tm_isdst=0)\n"
          ]
        }
      ],
      "source": [
        "#To get the output of Coordinated Universal Time in struct_time format, use the gmtime() function.\n",
        "import time\n",
        "print(time.gmtime(1704229704.6241024))"
      ]
    },
    {
      "cell_type": "code",
      "execution_count": 18,
      "metadata": {
        "colab": {
          "base_uri": "https://localhost:8080/"
        },
        "id": "IZYDiHoUBFVT",
        "outputId": "6821ccf8-0202-47fb-9159-da6221d1085a"
      },
      "outputs": [
        {
          "name": "stdout",
          "output_type": "stream",
          "text": [
            "1704229704.0\n"
          ]
        }
      ],
      "source": [
        "#in order to reverse the data into time\n",
        "import time\n",
        "local_time = (2024,1,2,21,8,24,1,2,0)\n",
        "print(time.mktime(local_time))"
      ]
    },
    {
      "cell_type": "code",
      "execution_count": 21,
      "metadata": {
        "colab": {
          "base_uri": "https://localhost:8080/"
        },
        "id": "CI-f1dVZBhYt",
        "outputId": "cf85c573-bd20-4a1a-86db-9da35a20ffb4"
      },
      "outputs": [
        {
          "name": "stdout",
          "output_type": "stream",
          "text": [
            "Tue Jan  2 21:08:24 2024\n"
          ]
        }
      ],
      "source": [
        "#printing in single string\n",
        "import time\n",
        "local_time = (2024,1,2,21,8,24,1,2,0)\n",
        "print(time.asctime(local_time))"
      ]
    },
    {
      "cell_type": "code",
      "execution_count": 26,
      "metadata": {
        "colab": {
          "base_uri": "https://localhost:8080/"
        },
        "id": "Y6s9-BsvCFyy",
        "outputId": "8df21e46-543d-4b8c-c77a-2cfc92ad58dc"
      },
      "outputs": [
        {
          "name": "stdout",
          "output_type": "stream",
          "text": [
            "time.struct_time(tm_year=2024, tm_mon=1, tm_mday=2, tm_hour=0, tm_min=0, tm_sec=0, tm_wday=1, tm_yday=2, tm_isdst=-1)\n"
          ]
        }
      ],
      "source": [
        "#converting string based into struct_time format\n",
        "import time\n",
        "local_time = \"2 january, 2024\"\n",
        "print(time.strptime(local_time, \"%d %B, %Y\"))"
      ]
    },
    {
      "cell_type": "code",
      "execution_count": 29,
      "metadata": {
        "colab": {
          "base_uri": "https://localhost:8080/"
        },
        "id": "wExyaSG4Cfhj",
        "outputId": "ee2278d1-da1e-4fb4-b9b5-91d26370d330"
      },
      "outputs": [
        {
          "name": "stdout",
          "output_type": "stream",
          "text": [
            "    January 2024\n",
            "Mo Tu We Th Fr Sa Su\n",
            " 1  2  3  4  5  6  7\n",
            " 8  9 10 11 12 13 14\n",
            "15 16 17 18 19 20 21\n",
            "22 23 24 25 26 27 28\n",
            "29 30 31\n",
            "\n"
          ]
        }
      ],
      "source": [
        "#calendar\n",
        "import calendar\n",
        "print(calendar.month(2024,1))"
      ]
    },
    {
      "cell_type": "markdown",
      "metadata": {},
      "source": [
        "## **OS**"
      ]
    },
    {
      "cell_type": "code",
      "execution_count": 1,
      "metadata": {
        "colab": {
          "base_uri": "https://localhost:8080/"
        },
        "id": "xZTRzUUDET7f",
        "outputId": "251c1342-b004-47e7-dd42-517a76249a12"
      },
      "outputs": [
        {
          "name": "stdout",
          "output_type": "stream",
          "text": [
            "/home/vosti/pythonTutorial/Day-05-Python-Modules\n",
            "vosti\n"
          ]
        }
      ],
      "source": [
        "import os\n",
        "import getpass\n",
        "\n",
        "print(os.getcwd())\n",
        "print(getpass.getuser())\n"
      ]
    },
    {
      "cell_type": "markdown",
      "metadata": {},
      "source": [
        "## **sys**"
      ]
    },
    {
      "cell_type": "code",
      "execution_count": 7,
      "metadata": {
        "colab": {
          "base_uri": "https://localhost:8080/"
        },
        "id": "fxXuaSv4DPye",
        "outputId": "7ddf1eaa-e8c0-4a7c-f8d9-eb5f6a177e46"
      },
      "outputs": [
        {
          "name": "stdout",
          "output_type": "stream",
          "text": [
            "3.10.12 (main, Feb  4 2025, 14:57:36) [GCC 11.4.0]\n",
            "['/home/vosti/.local/lib/python3.10/site-packages/ipykernel_launcher.py', '--f=/home/vosti/.local/share/jupyter/runtime/kernel-v31fc8f2a4d7b56b14aca14c76f349731afd5ec1a0.json']\n"
          ]
        }
      ],
      "source": [
        "import sys\n",
        "print(sys.version)\n",
        "print(sys.argv)"
      ]
    },
    {
      "cell_type": "markdown",
      "metadata": {},
      "source": [
        "## **JSON**"
      ]
    },
    {
      "cell_type": "code",
      "execution_count": 10,
      "metadata": {
        "colab": {
          "base_uri": "https://localhost:8080/"
        },
        "id": "mv3x3OqqEa2c",
        "outputId": "d9666344-b6e7-493e-d006-2a54c917ddff"
      },
      "outputs": [
        {
          "name": "stdout",
          "output_type": "stream",
          "text": [
            "{\"name\": \"ASESMA\", \"age\": 15, \"state\": \"Ghana\"}\n"
          ]
        }
      ],
      "source": [
        "#using json module\n",
        "import json\n",
        "\n",
        "data = {\n",
        "    \"name\": \"ASESMA\",\n",
        "    \"age\": 15,\n",
        "    \"state\": \"Ghana\"\n",
        "}\n",
        "\n",
        "json_data = json.dumps(data)\n",
        "print(json_data)"
      ]
    },
    {
      "cell_type": "markdown",
      "metadata": {},
      "source": [
        "## **Random**"
      ]
    },
    {
      "cell_type": "code",
      "execution_count": 12,
      "metadata": {
        "colab": {
          "base_uri": "https://localhost:8080/"
        },
        "id": "IPJ3StxmExru",
        "outputId": "f99c3265-10c1-4223-e1ae-6a8a4a5a88a3"
      },
      "outputs": [
        {
          "name": "stdout",
          "output_type": "stream",
          "text": [
            "62\n",
            "4\n"
          ]
        }
      ],
      "source": [
        "#using the radom module\n",
        "import random\n",
        "print(random.randint(1,100))\n",
        "print(random.choice([1,2,3,4,5]))"
      ]
    },
    {
      "cell_type": "markdown",
      "metadata": {
        "id": "-daeEjKyFd0L"
      },
      "source": [
        "# **User-Defined modules in Python**"
      ]
    },
    {
      "cell_type": "markdown",
      "metadata": {
        "id": "rG-YwleBFiGt"
      },
      "source": [
        "It is created by the user to simplify their project.these modules can contain functions, classes,variables, and other code that you can reuse across multiple scripts."
      ]
    },
    {
      "cell_type": "code",
      "execution_count": 39,
      "metadata": {
        "colab": {
          "base_uri": "https://localhost:8080/"
        },
        "id": "FLk2xGyUE82s",
        "outputId": "a401b41c-1e7a-4ad1-eb6b-ac15717648a9"
      },
      "outputs": [
        {
          "name": "stdout",
          "output_type": "stream",
          "text": [
            "Enter first number:8\n",
            "Enter second number:12\n",
            "Addition: 20\n",
            "Subtraction -4\n",
            "Multiplication 96\n",
            "Division 0.6666666666666666\n"
          ]
        }
      ],
      "source": [
        "import math\n",
        "\n",
        "num1 = int(input(\"Enter first number:\"))\n",
        "num2 = int(input(\"Enter second number:\"))\n",
        "\n",
        "print(\"Addition:\",num1+num2)\n",
        "print(\"Subtraction\",num1-num2)\n",
        "print(\"Multiplication\",num1*num2)\n",
        "print(\"Division\",num1/num2)\n"
      ]
    },
    {
      "cell_type": "code",
      "execution_count": 41,
      "metadata": {
        "colab": {
          "base_uri": "https://localhost:8080/"
        },
        "id": "cFZt9sg8GPXV",
        "outputId": "cc1bc62f-07d9-4580-bcc8-9d928d5da953"
      },
      "outputs": [
        {
          "name": "stdout",
          "output_type": "stream",
          "text": [
            "The number is : 564\n",
            "The number is: 764\n"
          ]
        }
      ],
      "source": [
        "Number = 564\n",
        "def AddNumber():\n",
        "  global Number\n",
        "  Number = Number + 200\n",
        "print(\"The number is :\",Number)\n",
        "\n",
        "AddNumber()\n",
        "print(\"The number is:\",Number)"
      ]
    }
  ],
  "metadata": {
    "colab": {
      "provenance": []
    },
    "kernelspec": {
      "display_name": "Python 3",
      "name": "python3"
    },
    "language_info": {
      "codemirror_mode": {
        "name": "ipython",
        "version": 3
      },
      "file_extension": ".py",
      "mimetype": "text/x-python",
      "name": "python",
      "nbconvert_exporter": "python",
      "pygments_lexer": "ipython3",
      "version": "3.10.12"
    }
  },
  "nbformat": 4,
  "nbformat_minor": 0
}
